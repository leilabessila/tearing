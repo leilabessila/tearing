{
 "cells": [
  {
   "cell_type": "markdown",
   "id": "211fb151",
   "metadata": {},
   "source": [
    "# Kink-tearing version novembre 2021 - test 2\n"
   ]
  },
  {
   "cell_type": "markdown",
   "id": "6c7a2061",
   "metadata": {},
   "source": [
    "<font color='red'>[Dernière mise à jour : 01/12/2021] </font>\n",
    "- Tracés des profils de courant [<font color='blue'> ajouter légendes </font>]\n",
    "- Tracés de la solution tearing [<font color='blue'> ajouter légendes et tangentes </font>]\n",
    "- Calcul du saut de pente $\\Delta'$, puis du taux de croissance $\\gamma$\n",
    "- Tracés des abaques [<font color='blue'> en cours </font>]\n",
    "- <font color='blue'>ajouter le calcul du $\\Delta'$ avec le fit asymptotique</font>"
   ]
  },
  {
   "cell_type": "code",
   "execution_count": 131,
   "id": "c997ff53",
   "metadata": {},
   "outputs": [],
   "source": [
    "import numpy as np \n",
    "import scipy as sc\n",
    "import matplotlib.pyplot as plt\n",
    "from mpl_toolkits.mplot3d import Axes3D\n",
    "from matplotlib import rc"
   ]
  },
  {
   "cell_type": "markdown",
   "id": "34f79cb4",
   "metadata": {},
   "source": [
    "## Déclaration des variables"
   ]
  },
  {
   "cell_type": "markdown",
   "id": "350f5333",
   "metadata": {},
   "source": [
    "On définit ici les variables utiles : \n",
    "\n",
    "$N$ le nombre de points de la simulation, $r_{min}$ le premier point considéré à l'intérieur\n",
    ",$r_{max}$ le dernier point considéré à l'extérieur\n",
    ",$n$ le nombre d'onde poloïdal, $m$ le nombre d'onde toroïdal, $B_0$, $R_0$, $q_s = \\frac{m}{n}$ le facteur de sécurité sur la surface de résonance."
   ]
  },
  {
   "cell_type": "code",
   "execution_count": 132,
   "id": "13897d48",
   "metadata": {},
   "outputs": [],
   "source": [
    "N = 1000\n",
    "rmin = 0.000001\n",
    "rmax = 1\n",
    "step = rmax/N\n",
    "r0 = 0.5\n",
    "psi0 = 1.\n",
    "B0 = 1.\n",
    "R0 = 1.\n",
    "mu0 = 4*np.pi*10E-7\n",
    "j0prime = -1\n",
    "q0 = (-2*B0)/(mu0*j0prime*r0*R0)\n",
    "n = 1.\n",
    "m = 2.\n",
    "qs = m/n\n",
    "#vecteur des positions\n",
    "v_r0 = np.linspace(rmin, rmax, N)"
   ]
  },
  {
   "cell_type": "markdown",
   "id": "8336c296",
   "metadata": {},
   "source": [
    "## Profil à l'équilibre "
   ]
  },
  {
   "cell_type": "markdown",
   "id": "c135cfe1",
   "metadata": {},
   "source": [
    "Dans cette section, on indroduit une fonction profil qui trace les valeurs à l'équilibre pour les profils de courant, facteur de sécurité et leurs dérivées. "
   ]
  },
  {
   "cell_type": "markdown",
   "id": "ef9ce2e3",
   "metadata": {},
   "source": [
    "On commence par introduire la fonction wess qui calcule pour une position radiale la valeur du facteur de sécurité $q(r)$associée selon un profil de courant de type Wesson. Les paramètres sont $q_a$ et $\\nu$."
   ]
  },
  {
   "cell_type": "code",
   "execution_count": 133,
   "id": "50a33b63",
   "metadata": {},
   "outputs": [],
   "source": [
    "def wess(r, qa, nu):\n",
    "    return qa*r**2/(1-(1 - r**2)**(nu+1))"
   ]
  },
  {
   "cell_type": "markdown",
   "id": "e3f424eb",
   "metadata": {},
   "source": [
    "La fonction profil sert ensuite à calculer les valeurs à l'équilibre pour un type de profil de courant. Nous y avons intégré 2 types pour le moment : \n",
    "- profil de Wesson, comme vu plus haut \n",
    "- profil type \"step function\" qui possède une solution analytique et peut donc être utile pour tester le présent programme\n"
   ]
  },
  {
   "cell_type": "code",
   "execution_count": 155,
   "id": "15dc6ebc",
   "metadata": {},
   "outputs": [],
   "source": [
    "def profil(type, param):\n",
    "    '''La fonction profil donne les valeurs de v_r, v_q, v_jeq et v_djeq qui correspondent au profil équilibre.\n",
    "    Pour le moment deux types possibles : \n",
    "    - step (profil en step function traité dans l'exercice 5 du poly de MHD)\n",
    "    - wess (profil de wesson, qui prend comme paramètres qa et nu)'''\n",
    "    \n",
    "    if type == 'wess': \n",
    "        qa = param[0]\n",
    "        nu = param[1]\n",
    "        v_q = wess(v_r0,qa,nu)\n",
    "        \n",
    "        #Maintenant on trouve la surface de resonnance et on change le vecteur v_r\n",
    "        rs = np.interp(qs,v_q,v_r0)\n",
    "        b = np.arange(rs+step/2,rmax,step)\n",
    "        a = -np.arange(-(rs-step/2),-rmin,step)\n",
    "        a = np.sort(a)\n",
    "        v_r = np.concatenate((a,b)) #le nouveau vecteur v_r équidistant à la surface de résonnance\n",
    "        v_q = wess(v_r,qa,nu)\n",
    "\n",
    "        #On calcule jeq et djeq avec le nouveau maillage équidistant\n",
    "        v_jeq = (np.gradient(v_r**2/v_q)*B0)/(mu0*R0*v_r*step)\n",
    "        v_djeq = np.gradient(v_jeq)/step\n",
    "        v_s = np.gradient(v_q)/(v_r*step)\n",
    "        \n",
    "        #Magnetic shear à la résonance \n",
    "        ss = np.interp(rs,v_r,v_s)   #Non revoir interp\n",
    "        #Correction des premiers termes\n",
    "        v_jeq[0] = np.interp(v_r[0],v_r[1:],v_jeq[1:])\n",
    "        v_s[0] = np.interp(v_r[0],v_r[1:],v_s[1:])  \n",
    "        v_djeq[1] = np.interp(v_r[1],v_r[2:],v_djeq[2:])\n",
    "        v_djeq[0] = np.interp(v_r[0],v_r[2:],v_djeq[2:])\n",
    "        \n",
    "        return (v_r,v_q,v_s,v_jeq,v_djeq,rs,ss)\n",
    "\n",
    "        \n"
   ]
  },
  {
   "cell_type": "markdown",
   "id": "774d690d",
   "metadata": {},
   "source": [
    "Donc pour la fonction profil : \n",
    "\n",
    "- profil[0]  vecteur position centré sur la surface de résonance\n",
    "    \n",
    "- profil[1]  safety factor \n",
    "    \n",
    "- profil[2]  magnetic shear\n",
    "    \n",
    "- profil[3]  $j_{eq}(r)$\n",
    "    \n",
    "- profil[4] $\\frac{dj_{eq}}{dr}$\n",
    "    \n",
    "- profil[5]  $r_s$\n",
    "    \n",
    "- profil[6]  $s_s$"
   ]
  },
  {
   "cell_type": "code",
   "execution_count": 136,
   "id": "58b12a46",
   "metadata": {},
   "outputs": [],
   "source": [
    "def plot_pr(profil): \n",
    "    ''' Trace q, j_eq, d_jeq pour un profil de courant donné, avec surface de résonnance et maillage équidistant'''\n",
    "    v_r = profil[0]\n",
    "    v_q = profil[1]\n",
    "    v_jeq = profil[3]\n",
    "    v_djeq = profil[4]\n",
    "    v_s = profil[2]\n",
    "    rs = profil[5]\n",
    "    \n",
    "    plt.figure()\n",
    "    plt.title('Profil de q,s')\n",
    "    plt.plot(v_r,v_q)\n",
    "    plt.plot(v_r,v_s)\n",
    "    plt.axvline(x=rs, color = 'black', linestyle = '--')\n",
    "    \n",
    "    plt.figure()\n",
    "    plt.title('profil de jeq')\n",
    "    plt.plot(v_r,v_jeq)\n",
    "    plt.axvline(x=rs, color = 'black', linestyle = '--')\n",
    "    \n",
    "    plt.figure()\n",
    "    plt.title('profil de djeq')\n",
    "    plt.plot(v_r,v_djeq)\n",
    "    plt.axvline(x=rs, color = 'black', linestyle = '--')\n"
   ]
  },
  {
   "cell_type": "markdown",
   "id": "06302600",
   "metadata": {},
   "source": [
    "### Exemple pour un profil de Wesson test"
   ]
  },
  {
   "cell_type": "code",
   "execution_count": 144,
   "id": "138d2bcf",
   "metadata": {},
   "outputs": [
    {
     "data": {
      "image/png": "[encoded data removed]",
      "text/plain": [
       "<Figure size 432x288 with 1 Axes>"
      ]
     },
     "metadata": {
      "needs_background": "light"
     },
     "output_type": "display_data"
    },
    {
     "data": {
      "image/png": "[encoded data removed]",
      "text/plain": [
       "<Figure size 432x288 with 1 Axes>"
      ]
     },
     "metadata": {
      "needs_background": "light"
     },
     "output_type": "display_data"
    },
    {
     "data": {
      "image/png": "[encoded data removed]",
      "text/plain": [
       "<Figure size 432x288 with 1 Axes>"
      ]
     },
     "metadata": {
      "needs_background": "light"
     },
     "output_type": "display_data"
    }
   ],
   "source": [
    "qa_t =3.5\n",
    "nu_t = 1.8\n",
    "pr_test = profil('wess',(qa_t,nu_t))\n",
    "plot_pr(pr_test)"
   ]
  },
  {
   "cell_type": "markdown",
   "id": "93088e08",
   "metadata": {},
   "source": [
    "## Résolution de l'équation tearing"
   ]
  },
  {
   "cell_type": "markdown",
   "id": "7bf9171f",
   "metadata": {},
   "source": [
    "Maintenant qu'on a les profils d'équilibre, on est à même de résoudre l'équation kink-tearing. "
   ]
  },
  {
   "cell_type": "markdown",
   "id": "540bdbcb",
   "metadata": {},
   "source": [
    "Pour cela, on utilise un schéma de Runge-Kutta d'ordre 2. On part de chaque extrémité de la section de tokamak ($r=0$ puis $r=1$) avec une pente arbitraire de 1. On raccorde au niveau de la surface de résonance à une valeur arbitraire $\\psi_s = 1$. Le but est de calculer le saut de pente $\\Delta'$"
   ]
  },
  {
   "cell_type": "code",
   "execution_count": 138,
   "id": "df7fff96",
   "metadata": {},
   "outputs": [],
   "source": [
    "def ode2_stepRK(h,b,c,v_i):\n",
    "     \" solves y''+by' +c = 0 for one iteration with step h, Runge Kutta method. v_i must be of the form [y',y]\"\n",
    "     A = np.array([[-b,-c],[1,0]])\n",
    "     return v_i + h*A.dot(v_i)+ h**2/2*(A.dot(A).dot(v_i))        "
   ]
  },
  {
   "cell_type": "markdown",
   "id": "19c34789",
   "metadata": {},
   "source": [
    "La fonction ode2_stepRK renvoie les valeurs de [y,y'] calculés pour chaque itération avec un schéma de Runge-Kutta. On l'implémente ensuite dans la fonction \"solve_tear\" qui construit les profils radiaux de $\\psi$ et $\\frac{d\\psi}{dr}$"
   ]
  },
  {
   "cell_type": "markdown",
   "id": "dd73d567",
   "metadata": {},
   "source": [
    "\n",
    "\n",
    "La fonction suivante solve_tear résout l'équation tearing pour un profil donné. "
   ]
  },
  {
   "cell_type": "code",
   "execution_count": 139,
   "id": "f54abfba",
   "metadata": {},
   "outputs": [],
   "source": [
    "def solve_tear(profil,param) :\n",
    "    '''solve tear prend comme argument un type de profil et un paramètre param. \n",
    "    -plot : trace uniquement le graphe du profil de psi et de dpsi obtenu\n",
    "    - deltap : renvoie uniquement le delta prime (pratique pour les abaques)\n",
    "    - par défaut, la fonction renvoie le vecteur psi, le vecteur dpsi et la valeur de deltap'''\n",
    "    \n",
    "\n",
    "    \n",
    "    #Initialisation du vecteur solution\n",
    "    v_sol = np.zeros((2,N))\n",
    "    v_sol[:,0] = [1,0] #ici 1 est le psi prime initial (arbitraire et on ajuste)\n",
    "    \n",
    "    #On prend les vecteurs du profil\n",
    "    v_r = profil[0]\n",
    "    v_q = profil[1]\n",
    "    v_jeq = profil[3]\n",
    "    v_djeq = profil[4]\n",
    "    rs = profil[5]\n",
    "    \n",
    "    if param =='deltap'and (rs ==1 or rs ==0 ):\n",
    "        return np.nan\n",
    "    #Si la surface de résonance est = r<0 ou r>1.... Le problème n'est pas très intéressant.\n",
    "    #On ne s'en embarasse pas trop\n",
    "    #if (rs ==0 or rs ==1) and param =='deltap':\n",
    "        #return np.NaN\n",
    "\n",
    "    #Backward\n",
    "    i_b = len(v_r)-1 #len(v_r)-1 : c'est le dernier point de notre vecteur position\n",
    "    v_sol[:,i_b] = [1,0] #CL à l'extrémité droite\n",
    "    while v_r[i_b] > rs :\n",
    "        djeq = v_djeq[i_b]\n",
    "        r = v_r[i_b]\n",
    "        q = v_q[i_b]\n",
    "        c = - m**2/r**2 + mu0*q*qs*R0*djeq/((q-qs)*r*B0)\n",
    "        b = 1./r    \n",
    "        v_i = v_sol[:,i_b]      \n",
    "        v_sol[:,i_b-1] = ode2_stepRK(step,b,c,v_i)\n",
    "        i_b = i_b - 1\n",
    "\n",
    "    v_sol[0,i_b:] = - v_sol[0,i_b:] #vraies dérivées par rapport au sens de parcours r croissant donc l'opposé\n",
    "    \n",
    "    psi_sb = v_sol[1,i_b+1]\n",
    "    v_sol[:,i_b+1:] = v_sol[:,i_b+1:]/psi_sb #raccordement du psi back \n",
    "    \n",
    "    #Forward\n",
    "    i_f = 0\n",
    "    while v_r[i_f+1] < rs : #lorsqu'on s'intéresse à i_f on calcule le terme suivant\n",
    "        djeq = v_djeq[i_f]\n",
    "        r = v_r[i_f]\n",
    "        q = v_q[i_f]\n",
    "        c = - m**2/r**2 + mu0*q*qs*R0*djeq/((q-qs)*r*B0)\n",
    "        b = 1/r\n",
    "        v_i = v_sol[:,i_f]      \n",
    "        v_sol[:,i_f+1] = ode2_stepRK(step,b,c,v_i)\n",
    "        i_f = i_f +1\n",
    "        \n",
    "    #Raccordement de psi forward\n",
    "    psi_sf = v_sol[1,i_f]\n",
    "    v_sol[:,:i_f+1] = v_sol[:,:i_f+1]/psi_sf\n",
    "    \n",
    "    #extraction psi dpsi\n",
    "    psi = v_sol[1,:]\n",
    "    dpsi = v_sol[0,:]\n",
    "    deltap = dpsi[i_b+1]-dpsi[i_b]\n",
    "    \n",
    "    if param == 'plot' :\n",
    "        plt.figure()\n",
    "        plt.title(r'$\\psi$')\n",
    "        plt.plot(v_r,psi)\n",
    "        plt.axvline(x=rs, color = 'black', linestyle = '--')\n",
    "        plt.show()\n",
    "\n",
    "        plt.figure()\n",
    "        plt.title(r'$\\frac{d \\psi}{dr}$')\n",
    "        plt.plot(v_r,dpsi)\n",
    "        plt.axvline(x=rs, color = 'black', linestyle = '--')\n",
    "        plt.show()\n",
    "        \n",
    "    elif param =='deltap':\n",
    "        if rs ==1 or rs ==0 : \n",
    "            return NaN\n",
    "        return deltap\n",
    "    \n",
    "    else : \n",
    "        return (psi,dpsi,deltap)\n"
   ]
  },
  {
   "cell_type": "markdown",
   "id": "c12bb11c",
   "metadata": {},
   "source": [
    "Pour faciliter le calcul des taux de croissance ou la réalisation des abaques, on introduit la fonction deltap_w."
   ]
  },
  {
   "cell_type": "code",
   "execution_count": 146,
   "id": "454617e3",
   "metadata": {},
   "outputs": [],
   "source": [
    "def deltap_w(qa,nu):\n",
    "    '''Renvoie la valeur de delta prime pour le profil de Wesson qa nu'''\n",
    "    pr = profil('wess',(qa,nu))\n",
    "    return solve_tear(pr,'deltap')"
   ]
  },
  {
   "cell_type": "markdown",
   "id": "e2ed7fcc",
   "metadata": {},
   "source": [
    "### Exemple pour un profil de Wesson test"
   ]
  },
  {
   "cell_type": "markdown",
   "id": "3da9cca4",
   "metadata": {},
   "source": [
    "Pour le même profil que précédemment ($q_a = 3.5$, $\\nu = 1.8$) on trace le profil solution. "
   ]
  },
  {
   "cell_type": "code",
   "execution_count": 147,
   "id": "33dce57b",
   "metadata": {},
   "outputs": [
    {
     "data": {
      "image/png": "[encoded data removed]",
      "text/plain": [
       "<Figure size 432x288 with 1 Axes>"
      ]
     },
     "metadata": {
      "needs_background": "light"
     },
     "output_type": "display_data"
    },
    {
     "data": {
      "image/png": "[encoded data removed]",
      "text/plain": [
       "<Figure size 432x288 with 1 Axes>"
      ]
     },
     "metadata": {
      "needs_background": "light"
     },
     "output_type": "display_data"
    }
   ],
   "source": [
    "solve_tear(pr_test,'plot')"
   ]
  },
  {
   "cell_type": "markdown",
   "id": "2933f351",
   "metadata": {},
   "source": [
    "Et le calcul de $\\Delta'$ donne : "
   ]
  },
  {
   "cell_type": "code",
   "execution_count": 149,
   "id": "b3a8a282",
   "metadata": {},
   "outputs": [
    {
     "data": {
      "text/plain": [
       "10.337005724248236"
      ]
     },
     "execution_count": 149,
     "metadata": {},
     "output_type": "execute_result"
    }
   ],
   "source": [
    "deltap_w(qa_t,nu_t)"
   ]
  },
  {
   "cell_type": "markdown",
   "id": "b2bd3703",
   "metadata": {},
   "source": [
    "## Taux de croissance de l'instabilité tearing"
   ]
  },
  {
   "cell_type": "code",
   "execution_count": 151,
   "id": "e7642e18",
   "metadata": {},
   "outputs": [],
   "source": [
    "def rs_w(qa,nu):\n",
    "    return profil('wess',(qa,nu))[5]"
   ]
  },
  {
   "cell_type": "code",
   "execution_count": 152,
   "id": "b9ea8c9d",
   "metadata": {},
   "outputs": [],
   "source": [
    "def ss_w(qa,nu):\n",
    "    return profil('wess',(qa,nu))[6]"
   ]
  },
  {
   "cell_type": "code",
   "execution_count": 157,
   "id": "7ef9ec04",
   "metadata": {},
   "outputs": [
    {
     "data": {
      "text/plain": [
       "4.222704755319663"
      ]
     },
     "execution_count": 157,
     "metadata": {},
     "output_type": "execute_result"
    }
   ],
   "source": [
    "ss_w(3.5,1.8)"
   ]
  },
  {
   "cell_type": "markdown",
   "id": "c8990d93",
   "metadata": {},
   "source": [
    "Le but est de calculer le taux de croissance de l'instabilité tearing tel que le renvoie GYSELA. Tout d'abord, nous allons tracer les abaques de $\\Delta'$ qui sont à comparer avec le résultats obtenus par D. Zarzoso dans [1]"
   ]
  },
  {
   "cell_type": "markdown",
   "id": "7b0d354c",
   "metadata": {},
   "source": [
    "La normalisation dans GYSELA est calculée comme suit : \n",
    "\n",
    "$\\large\\frac{1}{2 \\sqrt{\\pi}} \\times (\\tilde{\\Delta'}) \\times \\frac{\\rho_\\star^3}{\\beta_{eq}} \\sqrt{\\frac{m_e}{m_p}} \\sqrt{\\frac{T_e}{T_0}} \\frac{a}{r_s} \\frac{a}{R_0} \\frac{s_s}{q_s}m $\n",
    "\n",
    "Où : \n",
    "- $s_s$ est le magnetic shear au niveau de la surface de résonance \n",
    "- $\\Delta'$ est normalisée par rapport au petit rayon $a =1$ du tokamak\n",
    "- $\\rho_\\star$ est le rayon de Larmor normalisé \n",
    "- $\\beta$ est le ration entre l'énergie cinétique et l'énergie magnétique \n",
    "- $T_e$ la température électronique, prise égale à la température ionique $T_i = T_0 = T_e$ dans GYSELA\n",
    "- $q_s$ le facteur de sécurité à la surface de résonance\n",
    "- $r_s$ la position de la surface de résonance"
   ]
  },
  {
   "cell_type": "code",
   "execution_count": 161,
   "id": "567b69a4",
   "metadata": {},
   "outputs": [],
   "source": [
    "def gamma_w(qa,nu):\n",
    "    deltap = deltap_w(qa,nu)\n",
    "    rs = rs_w(qa,nu)\n",
    "    ss = ss_w(qa,nu)\n",
    "    beta = 0.01\n",
    "    Te = 1\n",
    "    T0 = 1\n",
    "    rho_s = 3\n",
    "    me = 1\n",
    "    mp = 0.001\n",
    "    a = 1\n",
    "    return (1/(2*np.pi)*deltap*(rho_s**3/beta)*np.sqrt(me/mp)*np.sqrt(Te/T0)*(a/rs)*(a/R0)*(ss/qs))"
   ]
  },
  {
   "cell_type": "code",
   "execution_count": 162,
   "id": "c3e18b9c",
   "metadata": {},
   "outputs": [
    {
     "data": {
      "text/plain": [
       "478231.62081025995"
      ]
     },
     "execution_count": 162,
     "metadata": {},
     "output_type": "execute_result"
    }
   ],
   "source": [
    "gamma_w(3.4,1.2)"
   ]
  },
  {
   "cell_type": "markdown",
   "id": "9e5bc34c",
   "metadata": {},
   "source": [
    "## Tracé des abaques"
   ]
  },
  {
   "cell_type": "markdown",
   "id": "10f9601f",
   "metadata": {},
   "source": [
    "#### Abaque pour $r_s$"
   ]
  },
  {
   "cell_type": "markdown",
   "id": "efa955a5",
   "metadata": {},
   "source": [
    "Fait un peu à la main car le meshgrid classique ne fonctionnait pas"
   ]
  },
  {
   "cell_type": "code",
   "execution_count": 164,
   "id": "433a161b",
   "metadata": {},
   "outputs": [
    {
     "data": {
      "text/plain": [
       "<a list of 15 text.Text objects>"
      ]
     },
     "execution_count": 164,
     "metadata": {},
     "output_type": "execute_result"
    },
    {
     "data": {
      "image/png": "[encoded data removed]",
      "text/plain": [
       "<Figure size 432x288 with 1 Axes>"
      ]
     },
     "metadata": {
      "needs_background": "light"
     },
     "output_type": "display_data"
    }
   ],
   "source": [
    "v_nu = np.linspace(1,4.5,10)\n",
    "v_qa = np.linspace(2,4,5)\n",
    "xx,yy = np.meshgrid(v_nu,v_qa)\n",
    "zz =[]\n",
    "for i_qa in v_qa : \n",
    "    v_rs = []\n",
    "    for i_nu in v_nu : \n",
    "        rs = profil('wess',(i_qa,i_nu))[5]\n",
    "        v_rs.append(rs)\n",
    "    zz.append(v_rs)\n",
    "\n",
    "\n",
    "plt.figure()\n",
    "plt.title(r'Abaque de $r_s$')\n",
    "plt.xlabel(r'$q_a$')\n",
    "plt.ylabel(r'$\\nu$')\n",
    "graphe = plt.contour(xx,yy,zz,20)\n",
    "plt.clabel(graphe,inline=1,fontsize=10,fmt='%3.2f')"
   ]
  },
  {
   "cell_type": "code",
   "execution_count": 166,
   "id": "d9ff60e6",
   "metadata": {
    "scrolled": true
   },
   "outputs": [
    {
     "name": "stderr",
     "output_type": "stream",
     "text": [
      "C:\\Users\\PIERRE~1\\AppData\\Local\\Temp/ipykernel_48252/4192227532.py:17: UserWarning: No contour levels were found within the data range.\n",
      "  graphe = plt.contour(xx,yy,zz,20)\n"
     ]
    },
    {
     "data": {
      "text/plain": [
       "<a list of 0 text.Text objects>"
      ]
     },
     "execution_count": 166,
     "metadata": {},
     "output_type": "execute_result"
    },
    {
     "data": {
      "image/png": "[encoded data removed]",
      "text/plain": [
       "<Figure size 432x288 with 1 Axes>"
      ]
     },
     "metadata": {
      "needs_background": "light"
     },
     "output_type": "display_data"
    }
   ],
   "source": [
    "v_nu = np.linspace(1,4.5,10)\n",
    "v_qa = np.linspace(2,4,5)\n",
    "xx,yy = np.meshgrid(v_nu,v_qa)\n",
    "zz =[]\n",
    "for i_qa in v_qa : \n",
    "    v_rs = []\n",
    "    for i_nu in v_nu : \n",
    "        ss = ss_w(i_qa,i_nu)\n",
    "        v_rs.append(rs)\n",
    "    zz.append(v_rs)\n",
    "\n",
    "\n",
    "plt.figure()\n",
    "plt.title(r'Abaque de $s_s$')\n",
    "plt.xlabel(r'$q_a$')\n",
    "plt.ylabel(r'$\\nu$')\n",
    "graphe = plt.contour(xx,yy,zz,20)\n",
    "plt.clabel(graphe,inline=1,fontsize=10,fmt='%3.2f')"
   ]
  },
  {
   "cell_type": "code",
   "execution_count": null,
   "id": "096f40c7",
   "metadata": {},
   "outputs": [],
   "source": []
  },
  {
   "cell_type": "code",
   "execution_count": 168,
   "id": "830e1225",
   "metadata": {},
   "outputs": [
    {
     "ename": "IndexError",
     "evalue": "index -1001 is out of bounds for axis 1 with size 1000",
     "output_type": "error",
     "traceback": [
      "\u001b[1;31m---------------------------------------------------------------------------\u001b[0m",
      "\u001b[1;31mIndexError\u001b[0m                                Traceback (most recent call last)",
      "\u001b[1;32mC:\\Users\\PIERRE~1\\AppData\\Local\\Temp/ipykernel_48252/3811006068.py\u001b[0m in \u001b[0;36m<module>\u001b[1;34m\u001b[0m\n\u001b[0;32m      6\u001b[0m     \u001b[0mv_de\u001b[0m \u001b[1;33m=\u001b[0m \u001b[1;33m[\u001b[0m\u001b[1;33m]\u001b[0m\u001b[1;33m\u001b[0m\u001b[1;33m\u001b[0m\u001b[0m\n\u001b[0;32m      7\u001b[0m     \u001b[1;32mfor\u001b[0m \u001b[0mi_nu\u001b[0m \u001b[1;32min\u001b[0m \u001b[0mv_nu\u001b[0m \u001b[1;33m:\u001b[0m\u001b[1;33m\u001b[0m\u001b[1;33m\u001b[0m\u001b[0m\n\u001b[1;32m----> 8\u001b[1;33m         \u001b[0mdeltap\u001b[0m \u001b[1;33m=\u001b[0m \u001b[0mdeltap_w\u001b[0m\u001b[1;33m(\u001b[0m\u001b[0mi_qa\u001b[0m\u001b[1;33m,\u001b[0m\u001b[0mi_nu\u001b[0m\u001b[1;33m)\u001b[0m\u001b[1;33m\u001b[0m\u001b[1;33m\u001b[0m\u001b[0m\n\u001b[0m\u001b[0;32m      9\u001b[0m         \u001b[0mv_de\u001b[0m\u001b[1;33m.\u001b[0m\u001b[0mappend\u001b[0m\u001b[1;33m(\u001b[0m\u001b[0mdeltap\u001b[0m\u001b[1;33m)\u001b[0m\u001b[1;33m\u001b[0m\u001b[1;33m\u001b[0m\u001b[0m\n\u001b[0;32m     10\u001b[0m     \u001b[0mzz\u001b[0m\u001b[1;33m.\u001b[0m\u001b[0mappend\u001b[0m\u001b[1;33m(\u001b[0m\u001b[0mv_de\u001b[0m\u001b[1;33m)\u001b[0m\u001b[1;33m\u001b[0m\u001b[1;33m\u001b[0m\u001b[0m\n",
      "\u001b[1;32mC:\\Users\\PIERRE~1\\AppData\\Local\\Temp/ipykernel_48252/4164814220.py\u001b[0m in \u001b[0;36mdeltap_w\u001b[1;34m(qa, nu)\u001b[0m\n\u001b[0;32m      2\u001b[0m     \u001b[1;34m'''Renvoie la valeur de delta prime pour le profil de Wesson qa nu'''\u001b[0m\u001b[1;33m\u001b[0m\u001b[1;33m\u001b[0m\u001b[0m\n\u001b[0;32m      3\u001b[0m     \u001b[0mpr\u001b[0m \u001b[1;33m=\u001b[0m \u001b[0mprofil\u001b[0m\u001b[1;33m(\u001b[0m\u001b[1;34m'wess'\u001b[0m\u001b[1;33m,\u001b[0m\u001b[1;33m(\u001b[0m\u001b[0mqa\u001b[0m\u001b[1;33m,\u001b[0m\u001b[0mnu\u001b[0m\u001b[1;33m)\u001b[0m\u001b[1;33m)\u001b[0m\u001b[1;33m\u001b[0m\u001b[1;33m\u001b[0m\u001b[0m\n\u001b[1;32m----> 4\u001b[1;33m     \u001b[1;32mreturn\u001b[0m \u001b[0msolve_tear\u001b[0m\u001b[1;33m(\u001b[0m\u001b[0mpr\u001b[0m\u001b[1;33m,\u001b[0m\u001b[1;34m'deltap'\u001b[0m\u001b[1;33m)\u001b[0m\u001b[1;33m\u001b[0m\u001b[1;33m\u001b[0m\u001b[0m\n\u001b[0m",
      "\u001b[1;32mC:\\Users\\PIERRE~1\\AppData\\Local\\Temp/ipykernel_48252/75039025.py\u001b[0m in \u001b[0;36msolve_tear\u001b[1;34m(profil, param)\u001b[0m\n\u001b[0;32m     35\u001b[0m         \u001b[0mb\u001b[0m \u001b[1;33m=\u001b[0m \u001b[1;36m1.\u001b[0m\u001b[1;33m/\u001b[0m\u001b[0mr\u001b[0m\u001b[1;33m\u001b[0m\u001b[1;33m\u001b[0m\u001b[0m\n\u001b[0;32m     36\u001b[0m         \u001b[0mv_i\u001b[0m \u001b[1;33m=\u001b[0m \u001b[0mv_sol\u001b[0m\u001b[1;33m[\u001b[0m\u001b[1;33m:\u001b[0m\u001b[1;33m,\u001b[0m\u001b[0mi_b\u001b[0m\u001b[1;33m]\u001b[0m\u001b[1;33m\u001b[0m\u001b[1;33m\u001b[0m\u001b[0m\n\u001b[1;32m---> 37\u001b[1;33m         \u001b[0mv_sol\u001b[0m\u001b[1;33m[\u001b[0m\u001b[1;33m:\u001b[0m\u001b[1;33m,\u001b[0m\u001b[0mi_b\u001b[0m\u001b[1;33m-\u001b[0m\u001b[1;36m1\u001b[0m\u001b[1;33m]\u001b[0m \u001b[1;33m=\u001b[0m \u001b[0mode2_stepRK\u001b[0m\u001b[1;33m(\u001b[0m\u001b[0mstep\u001b[0m\u001b[1;33m,\u001b[0m\u001b[0mb\u001b[0m\u001b[1;33m,\u001b[0m\u001b[0mc\u001b[0m\u001b[1;33m,\u001b[0m\u001b[0mv_i\u001b[0m\u001b[1;33m)\u001b[0m\u001b[1;33m\u001b[0m\u001b[1;33m\u001b[0m\u001b[0m\n\u001b[0m\u001b[0;32m     38\u001b[0m         \u001b[0mi_b\u001b[0m \u001b[1;33m=\u001b[0m \u001b[0mi_b\u001b[0m \u001b[1;33m-\u001b[0m \u001b[1;36m1\u001b[0m\u001b[1;33m\u001b[0m\u001b[1;33m\u001b[0m\u001b[0m\n\u001b[0;32m     39\u001b[0m \u001b[1;33m\u001b[0m\u001b[0m\n",
      "\u001b[1;31mIndexError\u001b[0m: index -1001 is out of bounds for axis 1 with size 1000"
     ]
    }
   ],
   "source": [
    "v_nu = np.linspace(1,4.5,10)\n",
    "v_qa = np.linspace(2,4,5)\n",
    "xx,yy = np.meshgrid(v_nu,v_qa)\n",
    "zz =[]\n",
    "for i_qa in v_qa : \n",
    "    v_de = []\n",
    "    for i_nu in v_nu : \n",
    "        deltap = deltap_w(i_qa,i_nu)\n",
    "        v_de.append(deltap)\n",
    "    zz.append(v_de)\n",
    "\n",
    "\n",
    "plt.figure()\n",
    "plt.title(r'Abaque de $\\Delta$')\n",
    "plt.xlabel(r'$q_a$')\n",
    "plt.ylabel(r'$\\nu$')\n",
    "graphe = plt.contour(xx,yy,zz,20)\n",
    "plt.clabel(graphe,inline=1,fontsize=10,fmt='%3.2f')"
   ]
  },
  {
   "cell_type": "code",
   "execution_count": null,
   "id": "bc764278",
   "metadata": {},
   "outputs": [],
   "source": []
  }
 ],
 "metadata": {
  "kernelspec": {
   "display_name": "Python 3 (ipykernel)",
   "language": "python",
   "name": "python3"
  },
  "language_info": {
   "codemirror_mode": {
    "name": "ipython",
    "version": 3
   },
   "file_extension": ".py",
   "mimetype": "text/x-python",
   "name": "python",
   "nbconvert_exporter": "python",
   "pygments_lexer": "ipython3",
   "version": "3.9.7"
  }
 },
 "nbformat": 4,
 "nbformat_minor": 5
}
